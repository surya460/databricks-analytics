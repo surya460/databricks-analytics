{
 "cells": [
  {
   "cell_type": "code",
   "execution_count": 1,
   "id": "009baf11",
   "metadata": {
    "execution": {
     "iopub.execute_input": "2022-01-07T19:04:15.964543Z",
     "iopub.status.busy": "2022-01-07T19:04:15.964261Z",
     "iopub.status.idle": "2022-01-07T19:04:51.211824Z",
     "shell.execute_reply": "2022-01-07T19:04:51.211268Z",
     "shell.execute_reply.started": "2022-01-07T19:04:15.964516Z"
    }
   },
   "outputs": [
    {
     "data": {
      "application/vnd.jupyter.widget-view+json": {
       "model_id": "bda4850390bc44dca21b602d5378fe4e",
       "version_major": 2,
       "version_minor": 0
      },
      "text/plain": [
       "VBox()"
      ]
     },
     "metadata": {},
     "output_type": "display_data"
    },
    {
     "name": "stdout",
     "output_type": "stream",
     "text": [
      "Starting Spark application\n"
     ]
    },
    {
     "data": {
      "text/html": [
       "<table>\n",
       "<tr><th>ID</th><th>YARN Application ID</th><th>Kind</th><th>State</th><th>Spark UI</th><th>Driver log</th><th>Current session?</th></tr><tr><td>0</td><td>application_1641577170387_0002</td><td>pyspark</td><td>idle</td><td><a target=\"_blank\" href=\"http://ip-172-31-95-37.ec2.internal:20888/proxy/application_1641577170387_0002/\" >Link</a></td><td><a target=\"_blank\" href=\"http://ip-172-31-91-80.ec2.internal:8042/node/containerlogs/container_1641577170387_0002_01_000001/livy\" >Link</a></td><td>✔</td></tr></table>"
      ],
      "text/plain": [
       "<IPython.core.display.HTML object>"
      ]
     },
     "metadata": {},
     "output_type": "display_data"
    },
    {
     "data": {
      "application/vnd.jupyter.widget-view+json": {
       "model_id": "",
       "version_major": 2,
       "version_minor": 0
      },
      "text/plain": [
       "FloatProgress(value=0.0, bar_style='info', description='Progress:', layout=Layout(height='25px', width='50%'),…"
      ]
     },
     "metadata": {},
     "output_type": "display_data"
    },
    {
     "name": "stdout",
     "output_type": "stream",
     "text": [
      "SparkSession available as 'spark'.\n"
     ]
    },
    {
     "data": {
      "application/vnd.jupyter.widget-view+json": {
       "model_id": "",
       "version_major": 2,
       "version_minor": 0
      },
      "text/plain": [
       "FloatProgress(value=0.0, bar_style='info', description='Progress:', layout=Layout(height='25px', width='50%'),…"
      ]
     },
     "metadata": {},
     "output_type": "display_data"
    }
   ],
   "source": [
    "from pyspark.sql import SparkSession\n",
    "spark = SparkSession.builder.appName(\"Delta-Lake-PoC\") \\\n",
    "    .config(\"spark.jars.packages\", \\\n",
    "            \"io.delta:delta-core_2.12:0.8.0\") \\\n",
    "    .config(\"spark.sql.extensions\", \\\n",
    "            \"io.delta.sql.DeltaSparkSessionExtension\") \\\n",
    "    .config(\"spark.sql.catalog.spark_catalog\",\\\n",
    "            \"org.apache.spark.sql.delta.catalog.DeltaCatalog\") \\\n",
    "    .config(\"spark.databricks.delta.retentionDurationCheck.enabled\",\\\n",
    "            \"false\") \\\n",
    "    .getOrCreate()\n",
    "\n",
    "spark.sparkContext.addPyFile(\"s3://aws-spark-delta\"\\\n",
    "                             +\"/delta-core_2.12-0.8.0.jar\")"
   ]
  },
  {
   "cell_type": "code",
   "execution_count": 2,
   "id": "24e851e7",
   "metadata": {
    "execution": {
     "iopub.execute_input": "2022-01-07T19:10:53.937136Z",
     "iopub.status.busy": "2022-01-07T19:10:53.936905Z",
     "iopub.status.idle": "2022-01-07T19:11:07.340741Z",
     "shell.execute_reply": "2022-01-07T19:11:07.340096Z",
     "shell.execute_reply.started": "2022-01-07T19:10:53.937111Z"
    }
   },
   "outputs": [
    {
     "data": {
      "application/vnd.jupyter.widget-view+json": {
       "model_id": "e3ea89157c1a417e9aa9f92535c16f64",
       "version_major": 2,
       "version_minor": 0
      },
      "text/plain": [
       "VBox()"
      ]
     },
     "metadata": {},
     "output_type": "display_data"
    },
    {
     "data": {
      "application/vnd.jupyter.widget-view+json": {
       "model_id": "",
       "version_major": 2,
       "version_minor": 0
      },
      "text/plain": [
       "FloatProgress(value=0.0, bar_style='info', description='Progress:', layout=Layout(height='25px', width='50%'),…"
      ]
     },
     "metadata": {},
     "output_type": "display_data"
    }
   ],
   "source": [
    "df = spark.read.csv(\"s3://aws-spark-delta/attrition.csv\")"
   ]
  },
  {
   "cell_type": "code",
   "execution_count": 4,
   "id": "83fd78a6",
   "metadata": {
    "execution": {
     "iopub.execute_input": "2022-01-07T19:12:05.368188Z",
     "iopub.status.busy": "2022-01-07T19:12:05.367962Z",
     "iopub.status.idle": "2022-01-07T19:12:14.704742Z",
     "shell.execute_reply": "2022-01-07T19:12:14.704087Z",
     "shell.execute_reply.started": "2022-01-07T19:12:05.368163Z"
    },
    "tags": []
   },
   "outputs": [
    {
     "data": {
      "application/vnd.jupyter.widget-view+json": {
       "model_id": "e5d44851edbc49cab314d3c5e22f9e5c",
       "version_major": 2,
       "version_minor": 0
      },
      "text/plain": [
       "VBox()"
      ]
     },
     "metadata": {},
     "output_type": "display_data"
    },
    {
     "data": {
      "application/vnd.jupyter.widget-view+json": {
       "model_id": "",
       "version_major": 2,
       "version_minor": 0
      },
      "text/plain": [
       "FloatProgress(value=0.0, bar_style='info', description='Progress:', layout=Layout(height='25px', width='50%'),…"
      ]
     },
     "metadata": {},
     "output_type": "display_data"
    },
    {
     "name": "stdout",
     "output_type": "stream",
     "text": [
      "+---+---------+-----------------+---------+----------------------+----------------+---------+--------------+-------------+--------------+-----------------------+------+----------+--------------+--------+------------------+---------------+-------------+-------------+-----------+------------------+------+--------+-----------------+-----------------+------------------------+-------------+----------------+-----------------+---------------------+---------------+--------------+------------------+-----------------------+--------------------+\n",
      "|_c0|_c1      |_c2              |_c3      |_c4                   |_c5             |_c6      |_c7           |_c8          |_c9           |_c10                   |_c11  |_c12      |_c13          |_c14    |_c15              |_c16           |_c17         |_c18         |_c19       |_c20              |_c21  |_c22    |_c23             |_c24             |_c25                    |_c26         |_c27            |_c28             |_c29                 |_c30           |_c31          |_c32              |_c33                   |_c34                |\n",
      "+---+---------+-----------------+---------+----------------------+----------------+---------+--------------+-------------+--------------+-----------------------+------+----------+--------------+--------+------------------+---------------+-------------+-------------+-----------+------------------+------+--------+-----------------+-----------------+------------------------+-------------+----------------+-----------------+---------------------+---------------+--------------+------------------+-----------------------+--------------------+\n",
      "|Age|Attrition|BusinessTravel   |DailyRate|Department            |DistanceFromHome|Education|EducationField|EmployeeCount|EmployeeNumber|EnvironmentSatisfaction|Gender|HourlyRate|JobInvolvement|JobLevel|JobRole           |JobSatisfaction|MaritalStatus|MonthlyIncome|MonthlyRate|NumCompaniesWorked|Over18|OverTime|PercentSalaryHike|PerformanceRating|RelationshipSatisfaction|StandardHours|StockOptionLevel|TotalWorkingYears|TrainingTimesLastYear|WorkLifeBalance|YearsAtCompany|YearsInCurrentRole|YearsSinceLastPromotion|YearsWithCurrManager|\n",
      "|41 |Yes      |Travel_Rarely    |1102     |Sales                 |1               |2        |Life Sciences |1            |1             |2                      |Female|94        |3             |2       |Sales Executive   |4              |Single       |5993         |19479      |8                 |Y     |Yes     |11               |3                |1                       |80           |0               |8                |0                    |1              |6             |4                 |0                      |5                   |\n",
      "|49 |No       |Travel_Frequently|279      |Research & Development|8               |1        |Life Sciences |1            |2             |3                      |Male  |61        |2             |2       |Research Scientist|2              |Married      |5130         |24907      |1                 |Y     |No      |23               |4                |4                       |80           |1               |10               |3                    |3              |10            |7                 |1                      |7                   |\n",
      "+---+---------+-----------------+---------+----------------------+----------------+---------+--------------+-------------+--------------+-----------------------+------+----------+--------------+--------+------------------+---------------+-------------+-------------+-----------+------------------+------+--------+-----------------+-----------------+------------------------+-------------+----------------+-----------------+---------------------+---------------+--------------+------------------+-----------------------+--------------------+\n",
      "only showing top 3 rows"
     ]
    }
   ],
   "source": [
    "df.show(3,truncate=False)"
   ]
  },
  {
   "cell_type": "code",
   "execution_count": 7,
   "id": "553a77f2",
   "metadata": {
    "execution": {
     "iopub.execute_input": "2022-01-07T19:27:51.653379Z",
     "iopub.status.busy": "2022-01-07T19:27:51.653155Z",
     "iopub.status.idle": "2022-01-07T19:28:11.066723Z",
     "shell.execute_reply": "2022-01-07T19:28:11.066091Z",
     "shell.execute_reply.started": "2022-01-07T19:27:51.653356Z"
    },
    "tags": []
   },
   "outputs": [
    {
     "data": {
      "application/vnd.jupyter.widget-view+json": {
       "model_id": "d8e5ce4196174e1a889fafb9e6cf82c7",
       "version_major": 2,
       "version_minor": 0
      },
      "text/plain": [
       "VBox()"
      ]
     },
     "metadata": {},
     "output_type": "display_data"
    },
    {
     "data": {
      "application/vnd.jupyter.widget-view+json": {
       "model_id": "",
       "version_major": 2,
       "version_minor": 0
      },
      "text/plain": [
       "FloatProgress(value=0.0, bar_style='info', description='Progress:', layout=Layout(height='25px', width='50%'),…"
      ]
     },
     "metadata": {},
     "output_type": "display_data"
    }
   ],
   "source": [
    "df.write.format(\"delta\").save(\"s3://aws-spark-delta/delta-lake-output/\")"
   ]
  },
  {
   "cell_type": "code",
   "execution_count": 9,
   "id": "9902b6c1",
   "metadata": {
    "execution": {
     "iopub.execute_input": "2022-01-07T19:28:59.921111Z",
     "iopub.status.busy": "2022-01-07T19:28:59.920889Z",
     "iopub.status.idle": "2022-01-07T19:29:07.268001Z",
     "shell.execute_reply": "2022-01-07T19:29:07.267388Z",
     "shell.execute_reply.started": "2022-01-07T19:28:59.921089Z"
    },
    "tags": []
   },
   "outputs": [
    {
     "data": {
      "application/vnd.jupyter.widget-view+json": {
       "model_id": "f76bf929222445c1a9b4e1b7708906db",
       "version_major": 2,
       "version_minor": 0
      },
      "text/plain": [
       "VBox()"
      ]
     },
     "metadata": {},
     "output_type": "display_data"
    },
    {
     "data": {
      "application/vnd.jupyter.widget-view+json": {
       "model_id": "",
       "version_major": 2,
       "version_minor": 0
      },
      "text/plain": [
       "FloatProgress(value=0.0, bar_style='info', description='Progress:', layout=Layout(height='25px', width='50%'),…"
      ]
     },
     "metadata": {},
     "output_type": "display_data"
    },
    {
     "name": "stdout",
     "output_type": "stream",
     "text": [
      "+---+---------+-----------------+---------+--------------------+----------------+---------+--------------+-------------+--------------+--------------------+------+----------+--------------+--------+------------------+---------------+-------------+-------------+-----------+------------------+------+--------+-----------------+-----------------+--------------------+-------------+----------------+-----------------+--------------------+---------------+--------------+------------------+--------------------+--------------------+\n",
      "|_c0|      _c1|              _c2|      _c3|                 _c4|             _c5|      _c6|           _c7|          _c8|           _c9|                _c10|  _c11|      _c12|          _c13|    _c14|              _c15|           _c16|         _c17|         _c18|       _c19|              _c20|  _c21|    _c22|             _c23|             _c24|                _c25|         _c26|            _c27|             _c28|                _c29|           _c30|          _c31|              _c32|                _c33|                _c34|\n",
      "+---+---------+-----------------+---------+--------------------+----------------+---------+--------------+-------------+--------------+--------------------+------+----------+--------------+--------+------------------+---------------+-------------+-------------+-----------+------------------+------+--------+-----------------+-----------------+--------------------+-------------+----------------+-----------------+--------------------+---------------+--------------+------------------+--------------------+--------------------+\n",
      "|Age|Attrition|   BusinessTravel|DailyRate|          Department|DistanceFromHome|Education|EducationField|EmployeeCount|EmployeeNumber|EnvironmentSatisf...|Gender|HourlyRate|JobInvolvement|JobLevel|           JobRole|JobSatisfaction|MaritalStatus|MonthlyIncome|MonthlyRate|NumCompaniesWorked|Over18|OverTime|PercentSalaryHike|PerformanceRating|RelationshipSatis...|StandardHours|StockOptionLevel|TotalWorkingYears|TrainingTimesLast...|WorkLifeBalance|YearsAtCompany|YearsInCurrentRole|YearsSinceLastPro...|YearsWithCurrManager|\n",
      "| 41|      Yes|    Travel_Rarely|     1102|               Sales|               1|        2| Life Sciences|            1|             1|                   2|Female|        94|             3|       2|   Sales Executive|              4|       Single|         5993|      19479|                 8|     Y|     Yes|               11|                3|                   1|           80|               0|                8|                   0|              1|             6|                 4|                   0|                   5|\n",
      "| 49|       No|Travel_Frequently|      279|Research & Develo...|               8|        1| Life Sciences|            1|             2|                   3|  Male|        61|             2|       2|Research Scientist|              2|      Married|         5130|      24907|                 1|     Y|      No|               23|                4|                   4|           80|               1|               10|                   3|              3|            10|                 7|                   1|                   7|\n",
      "+---+---------+-----------------+---------+--------------------+----------------+---------+--------------+-------------+--------------+--------------------+------+----------+--------------+--------+------------------+---------------+-------------+-------------+-----------+------------------+------+--------+-----------------+-----------------+--------------------+-------------+----------------+-----------------+--------------------+---------------+--------------+------------------+--------------------+--------------------+\n",
      "only showing top 3 rows\n",
      "\n",
      "1471"
     ]
    }
   ],
   "source": [
    "from delta.tables import *\n",
    "from pyspark.sql.functions import *\n",
    "\n",
    "deltaTable = DeltaTable.forPath(spark, \"s3://aws-spark-delta/delta-lake-output\")\n",
    "\n",
    "deltaTable.toDF().show(3)\n",
    "deltaTable.toDF().count()"
   ]
  },
  {
   "cell_type": "code",
   "execution_count": 1,
   "id": "381d22d6",
   "metadata": {},
   "outputs": [
    {
     "data": {
      "application/vnd.jupyter.widget-view+json": {
       "model_id": "f89110c4c8c348248b083a44fc41fb6c",
       "version_major": 2,
       "version_minor": 0
      },
      "text/plain": [
       "VBox()"
      ]
     },
     "metadata": {},
     "output_type": "display_data"
    },
    {
     "name": "stdout",
     "output_type": "stream",
     "text": [
      "Starting Spark application\n"
     ]
    },
    {
     "data": {
      "text/html": [
       "<table>\n",
       "<tr><th>ID</th><th>YARN Application ID</th><th>Kind</th><th>State</th><th>Spark UI</th><th>Driver log</th><th>Current session?</th></tr><tr><td>0</td><td>application_1639500852682_0002</td><td>pyspark</td><td>idle</td><td><a target=\"_blank\" href=\"http://ip-172-31-85-215.ec2.internal:20888/proxy/application_1639500852682_0002/\" class=\"emr-proxy-link\" emr-resource=\"j-3VAWF9YWAOCX1\n",
       "\" application-id=\"application_1639500852682_0002\">Link</a></td><td><a target=\"_blank\" href=\"http://ip-172-31-93-74.ec2.internal:8042/node/containerlogs/container_1639500852682_0002_01_000001/livy\" >Link</a></td><td>✔</td></tr></table>"
      ],
      "text/plain": [
       "<IPython.core.display.HTML object>"
      ]
     },
     "metadata": {},
     "output_type": "display_data"
    },
    {
     "data": {
      "application/vnd.jupyter.widget-view+json": {
       "model_id": "",
       "version_major": 2,
       "version_minor": 0
      },
      "text/plain": [
       "FloatProgress(value=0.0, bar_style='info', description='Progress:', layout=Layout(height='25px', width='50%'),…"
      ]
     },
     "metadata": {},
     "output_type": "display_data"
    },
    {
     "name": "stdout",
     "output_type": "stream",
     "text": [
      "SparkSession available as 'spark'.\n"
     ]
    },
    {
     "data": {
      "application/vnd.jupyter.widget-view+json": {
       "model_id": "",
       "version_major": 2,
       "version_minor": 0
      },
      "text/plain": [
       "FloatProgress(value=0.0, bar_style='info', description='Progress:', layout=Layout(height='25px', width='50%'),…"
      ]
     },
     "metadata": {},
     "output_type": "display_data"
    },
    {
     "name": "stderr",
     "output_type": "stream",
     "text": [
      "An error was encountered:\n",
      "name 'deltaTable' is not defined\n",
      "Traceback (most recent call last):\n",
      "NameError: name 'deltaTable' is not defined\n",
      "\n"
     ]
    }
   ],
   "source": [
    "deltaTable.toDF().show(5)"
   ]
  },
  {
   "cell_type": "code",
   "execution_count": null,
   "id": "1a89e88c",
   "metadata": {},
   "outputs": [],
   "source": []
  }
 ],
 "metadata": {
  "kernelspec": {
   "display_name": "PySpark",
   "language": "",
   "name": "pysparkkernel"
  },
  "language_info": {
   "codemirror_mode": {
    "name": "python",
    "version": 2
   },
   "mimetype": "text/x-python",
   "name": "pyspark",
   "pygments_lexer": "python2"
  }
 },
 "nbformat": 4,
 "nbformat_minor": 5
}
