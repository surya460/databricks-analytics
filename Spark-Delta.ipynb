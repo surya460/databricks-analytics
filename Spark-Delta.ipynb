{
 "cells": [
  {
   "cell_type": "raw",
   "id": "1104405d",
   "metadata": {},
   "source": []
  },
  {
   "cell_type": "code",
   "execution_count": 1,
   "id": "9c33c5ac",
   "metadata": {
    "execution": {
     "iopub.execute_input": "2022-02-08T21:13:09.114502Z",
     "iopub.status.busy": "2022-02-08T21:13:09.114216Z",
     "iopub.status.idle": "2022-02-08T21:13:38.964987Z",
     "shell.execute_reply": "2022-02-08T21:13:38.964333Z",
     "shell.execute_reply.started": "2022-02-08T21:13:09.114474Z"
    },
    "tags": []
   },
   "outputs": [
    {
     "data": {
      "application/vnd.jupyter.widget-view+json": {
       "model_id": "20c311fb20234a279a8719588af2b1d4",
       "version_major": 2,
       "version_minor": 0
      },
      "text/plain": [
       "VBox()"
      ]
     },
     "metadata": {},
     "output_type": "display_data"
    },
    {
     "name": "stdout",
     "output_type": "stream",
     "text": [
      "Starting Spark application\n"
     ]
    },
    {
     "data": {
      "text/html": [
       "<table>\n",
       "<tr><th>ID</th><th>YARN Application ID</th><th>Kind</th><th>State</th><th>Spark UI</th><th>Driver log</th><th>Current session?</th></tr><tr><td>3</td><td>application_1642513354327_0005</td><td>pyspark</td><td>idle</td><td><a target=\"_blank\" href=\"http://ip-172-31-93-4.ec2.internal:20888/proxy/application_1642513354327_0005/\" >Link</a></td><td><a target=\"_blank\" href=\"http://ip-172-31-83-187.ec2.internal:8042/node/containerlogs/container_1642513354327_0005_01_000001/livy\" >Link</a></td><td>✔</td></tr></table>"
      ],
      "text/plain": [
       "<IPython.core.display.HTML object>"
      ]
     },
     "metadata": {},
     "output_type": "display_data"
    },
    {
     "data": {
      "application/vnd.jupyter.widget-view+json": {
       "model_id": "",
       "version_major": 2,
       "version_minor": 0
      },
      "text/plain": [
       "FloatProgress(value=0.0, bar_style='info', description='Progress:', layout=Layout(height='25px', width='50%'),…"
      ]
     },
     "metadata": {},
     "output_type": "display_data"
    },
    {
     "name": "stdout",
     "output_type": "stream",
     "text": [
      "SparkSession available as 'spark'.\n"
     ]
    },
    {
     "data": {
      "application/vnd.jupyter.widget-view+json": {
       "model_id": "",
       "version_major": 2,
       "version_minor": 0
      },
      "text/plain": [
       "FloatProgress(value=0.0, bar_style='info', description='Progress:', layout=Layout(height='25px', width='50%'),…"
      ]
     },
     "metadata": {},
     "output_type": "display_data"
    }
   ],
   "source": [
    "from pyspark.sql import SparkSession\n",
    "spark = SparkSession.builder.appName(\"Spark-Introduction\") \\\n",
    "    .getOrCreate()"
   ]
  },
  {
   "cell_type": "markdown",
   "id": "9eba6ff8",
   "metadata": {},
   "source": [
    "df = spark.read.csv(\"s3://aws-spark-delta/\"\\\n",
    "                    +\"WA_Fn-UseC_-HR-Employee-Attrition.csv\",\\\n",
    "                    header=True)\n",
    "df.describe()\n",
    "df.write.format(\"delta\").save\\\n",
    "    (\"s3://aws-spark-delta/\"\\\n",
    "     \"/employee-test\")\n",
    "df.show(100)"
   ]
  },
  {
   "cell_type": "code",
   "execution_count": 2,
   "id": "8631dc4e",
   "metadata": {
    "execution": {
     "iopub.execute_input": "2022-02-08T21:32:56.513973Z",
     "iopub.status.busy": "2022-02-08T21:32:56.513753Z",
     "iopub.status.idle": "2022-02-08T21:32:56.789691Z",
     "shell.execute_reply": "2022-02-08T21:32:56.789077Z",
     "shell.execute_reply.started": "2022-02-08T21:32:56.513947Z"
    },
    "tags": []
   },
   "outputs": [
    {
     "data": {
      "application/vnd.jupyter.widget-view+json": {
       "model_id": "780f4ed5d95a4ed6a3ff48cad447a789",
       "version_major": 2,
       "version_minor": 0
      },
      "text/plain": [
       "VBox()"
      ]
     },
     "metadata": {},
     "output_type": "display_data"
    },
    {
     "data": {
      "application/vnd.jupyter.widget-view+json": {
       "model_id": "",
       "version_major": 2,
       "version_minor": 0
      },
      "text/plain": [
       "FloatProgress(value=0.0, bar_style='info', description='Progress:', layout=Layout(height='25px', width='50%'),…"
      ]
     },
     "metadata": {},
     "output_type": "display_data"
    }
   ],
   "source": [
    "rdd = spark.sparkContext.parallelize(range(20),4)"
   ]
  },
  {
   "cell_type": "code",
   "execution_count": 3,
   "id": "ecca00c7-822d-414a-91af-733f854c0dd0",
   "metadata": {
    "execution": {
     "iopub.execute_input": "2022-02-08T21:33:09.541648Z",
     "iopub.status.busy": "2022-02-08T21:33:09.541413Z",
     "iopub.status.idle": "2022-02-08T21:33:09.598407Z",
     "shell.execute_reply": "2022-02-08T21:33:09.597720Z",
     "shell.execute_reply.started": "2022-02-08T21:33:09.541621Z"
    },
    "tags": []
   },
   "outputs": [
    {
     "data": {
      "application/vnd.jupyter.widget-view+json": {
       "model_id": "4345561843c443a4af12dbd9fe48e748",
       "version_major": 2,
       "version_minor": 0
      },
      "text/plain": [
       "VBox()"
      ]
     },
     "metadata": {},
     "output_type": "display_data"
    },
    {
     "data": {
      "application/vnd.jupyter.widget-view+json": {
       "model_id": "",
       "version_major": 2,
       "version_minor": 0
      },
      "text/plain": [
       "FloatProgress(value=0.0, bar_style='info', description='Progress:', layout=Layout(height='25px', width='50%'),…"
      ]
     },
     "metadata": {},
     "output_type": "display_data"
    },
    {
     "name": "stdout",
     "output_type": "stream",
     "text": [
      "4"
     ]
    }
   ],
   "source": [
    "print(str(rdd.getNumPartitions()))"
   ]
  },
  {
   "cell_type": "code",
   "execution_count": 5,
   "id": "9381063e-acbf-4f57-9e2f-243f25818db0",
   "metadata": {
    "execution": {
     "iopub.execute_input": "2022-02-08T21:34:40.793352Z",
     "iopub.status.busy": "2022-02-08T21:34:40.793103Z",
     "iopub.status.idle": "2022-02-08T21:34:41.052529Z",
     "shell.execute_reply": "2022-02-08T21:34:41.051948Z",
     "shell.execute_reply.started": "2022-02-08T21:34:40.793325Z"
    },
    "tags": []
   },
   "outputs": [
    {
     "data": {
      "application/vnd.jupyter.widget-view+json": {
       "model_id": "cea58c7445e54986abcdb84738381f35",
       "version_major": 2,
       "version_minor": 0
      },
      "text/plain": [
       "VBox()"
      ]
     },
     "metadata": {},
     "output_type": "display_data"
    },
    {
     "data": {
      "application/vnd.jupyter.widget-view+json": {
       "model_id": "",
       "version_major": 2,
       "version_minor": 0
      },
      "text/plain": [
       "FloatProgress(value=0.0, bar_style='info', description='Progress:', layout=Layout(height='25px', width='50%'),…"
      ]
     },
     "metadata": {},
     "output_type": "display_data"
    }
   ],
   "source": [
    "rdd1 = spark.sparkContext.textFile(\"s3://aws-spark-delta/data.txt\")"
   ]
  },
  {
   "cell_type": "code",
   "execution_count": 16,
   "id": "b425a0cb-07ec-4dd7-beee-a3eb2efe67b2",
   "metadata": {
    "execution": {
     "iopub.execute_input": "2022-02-08T15:46:46.791872Z",
     "iopub.status.busy": "2022-02-08T15:46:46.791646Z",
     "iopub.status.idle": "2022-02-08T15:46:49.065641Z",
     "shell.execute_reply": "2022-02-08T15:46:49.065040Z",
     "shell.execute_reply.started": "2022-02-08T15:46:46.791848Z"
    }
   },
   "outputs": [
    {
     "data": {
      "application/vnd.jupyter.widget-view+json": {
       "model_id": "edad82dac5074a879227d723469e9836",
       "version_major": 2,
       "version_minor": 0
      },
      "text/plain": [
       "VBox()"
      ]
     },
     "metadata": {},
     "output_type": "display_data"
    },
    {
     "data": {
      "application/vnd.jupyter.widget-view+json": {
       "model_id": "",
       "version_major": 2,
       "version_minor": 0
      },
      "text/plain": [
       "FloatProgress(value=0.0, bar_style='info', description='Progress:', layout=Layout(height='25px', width='50%'),…"
      ]
     },
     "metadata": {},
     "output_type": "display_data"
    },
    {
     "name": "stdout",
     "output_type": "stream",
     "text": [
      "['Hi Everyone', 'Today, we are learning spark', 'Spark is core component of hadoop', 'Spark does computing faster']"
     ]
    }
   ],
   "source": [
    "print(rdd1.collect())"
   ]
  },
  {
   "cell_type": "code",
   "execution_count": 6,
   "id": "89c172c7-bcdd-41e8-b53c-ae142f1e19bc",
   "metadata": {
    "execution": {
     "iopub.execute_input": "2022-02-08T21:34:45.239473Z",
     "iopub.status.busy": "2022-02-08T21:34:45.239245Z",
     "iopub.status.idle": "2022-02-08T21:34:58.555402Z",
     "shell.execute_reply": "2022-02-08T21:34:58.554712Z",
     "shell.execute_reply.started": "2022-02-08T21:34:45.239447Z"
    },
    "tags": []
   },
   "outputs": [
    {
     "data": {
      "application/vnd.jupyter.widget-view+json": {
       "model_id": "2289c7246d92475c9914826ad46afafb",
       "version_major": 2,
       "version_minor": 0
      },
      "text/plain": [
       "VBox()"
      ]
     },
     "metadata": {},
     "output_type": "display_data"
    },
    {
     "data": {
      "application/vnd.jupyter.widget-view+json": {
       "model_id": "",
       "version_major": 2,
       "version_minor": 0
      },
      "text/plain": [
       "FloatProgress(value=0.0, bar_style='info', description='Progress:', layout=Layout(height='25px', width='50%'),…"
      ]
     },
     "metadata": {},
     "output_type": "display_data"
    },
    {
     "name": "stdout",
     "output_type": "stream",
     "text": [
      "['Hi', 'Everyone', 'Today,', 'we', 'are', 'learning', 'Spark', 'Spark', 'is', 'core', 'component', 'of', 'hadoop', 'Spark', 'does', 'computing', 'faster']"
     ]
    }
   ],
   "source": [
    "rdd2 = rdd1.flatMap(lambda x : x.split(\" \"))\n",
    "print(rdd2.collect())"
   ]
  },
  {
   "cell_type": "code",
   "execution_count": 7,
   "id": "d694a003-8514-4479-9fbe-b001a745647e",
   "metadata": {
    "execution": {
     "iopub.execute_input": "2022-02-08T21:35:09.243072Z",
     "iopub.status.busy": "2022-02-08T21:35:09.242844Z",
     "iopub.status.idle": "2022-02-08T21:35:10.009575Z",
     "shell.execute_reply": "2022-02-08T21:35:10.008899Z",
     "shell.execute_reply.started": "2022-02-08T21:35:09.243047Z"
    },
    "tags": []
   },
   "outputs": [
    {
     "data": {
      "application/vnd.jupyter.widget-view+json": {
       "model_id": "51fa191a2c8e4eb29e572d0e4a06f3ff",
       "version_major": 2,
       "version_minor": 0
      },
      "text/plain": [
       "VBox()"
      ]
     },
     "metadata": {},
     "output_type": "display_data"
    },
    {
     "data": {
      "application/vnd.jupyter.widget-view+json": {
       "model_id": "",
       "version_major": 2,
       "version_minor": 0
      },
      "text/plain": [
       "FloatProgress(value=0.0, bar_style='info', description='Progress:', layout=Layout(height='25px', width='50%'),…"
      ]
     },
     "metadata": {},
     "output_type": "display_data"
    },
    {
     "name": "stdout",
     "output_type": "stream",
     "text": [
      "[('Hi', 1), ('Everyone', 1), ('Today,', 1), ('we', 1), ('are', 1), ('learning', 1), ('Spark', 1), ('Spark', 1), ('is', 1), ('core', 1), ('component', 1), ('of', 1), ('hadoop', 1), ('Spark', 1), ('does', 1), ('computing', 1), ('faster', 1)]"
     ]
    }
   ],
   "source": [
    "rdd3 = rdd2.map(lambda x: (x,1))\n",
    "print(rdd3.collect())"
   ]
  },
  {
   "cell_type": "code",
   "execution_count": 8,
   "id": "d23f7df6-c362-4876-9f33-7613368e90c9",
   "metadata": {
    "execution": {
     "iopub.execute_input": "2022-02-08T21:35:15.939455Z",
     "iopub.status.busy": "2022-02-08T21:35:15.939219Z",
     "iopub.status.idle": "2022-02-08T21:35:17.221966Z",
     "shell.execute_reply": "2022-02-08T21:35:17.221392Z",
     "shell.execute_reply.started": "2022-02-08T21:35:15.939429Z"
    },
    "tags": []
   },
   "outputs": [
    {
     "data": {
      "application/vnd.jupyter.widget-view+json": {
       "model_id": "665becec77a94ae7bcad509fab42260a",
       "version_major": 2,
       "version_minor": 0
      },
      "text/plain": [
       "VBox()"
      ]
     },
     "metadata": {},
     "output_type": "display_data"
    },
    {
     "data": {
      "application/vnd.jupyter.widget-view+json": {
       "model_id": "",
       "version_major": 2,
       "version_minor": 0
      },
      "text/plain": [
       "FloatProgress(value=0.0, bar_style='info', description='Progress:', layout=Layout(height='25px', width='50%'),…"
      ]
     },
     "metadata": {},
     "output_type": "display_data"
    },
    {
     "name": "stdout",
     "output_type": "stream",
     "text": [
      "[('Hi', 1), ('we', 1), ('are', 1), ('learning', 1), ('Spark', 3), ('is', 1), ('of', 1), ('hadoop', 1), ('Everyone', 1), ('Today,', 1), ('core', 1), ('component', 1), ('does', 1), ('computing', 1), ('faster', 1)]"
     ]
    }
   ],
   "source": [
    "rdd4 = rdd3.reduceByKey(lambda a,b : a+b)\n",
    "print(rdd4.collect())"
   ]
  },
  {
   "cell_type": "code",
   "execution_count": 20,
   "id": "c5f05813-2c88-4700-968c-b83c1fec967a",
   "metadata": {
    "execution": {
     "iopub.execute_input": "2022-02-08T15:47:31.605690Z",
     "iopub.status.busy": "2022-02-08T15:47:31.605468Z",
     "iopub.status.idle": "2022-02-08T15:47:32.888111Z",
     "shell.execute_reply": "2022-02-08T15:47:32.887463Z",
     "shell.execute_reply.started": "2022-02-08T15:47:31.605666Z"
    },
    "tags": []
   },
   "outputs": [
    {
     "data": {
      "application/vnd.jupyter.widget-view+json": {
       "model_id": "fd3f458ba7114052bb9e7e20b257b2b8",
       "version_major": 2,
       "version_minor": 0
      },
      "text/plain": [
       "VBox()"
      ]
     },
     "metadata": {},
     "output_type": "display_data"
    },
    {
     "data": {
      "application/vnd.jupyter.widget-view+json": {
       "model_id": "",
       "version_major": 2,
       "version_minor": 0
      },
      "text/plain": [
       "FloatProgress(value=0.0, bar_style='info', description='Progress:', layout=Layout(height='25px', width='50%'),…"
      ]
     },
     "metadata": {},
     "output_type": "display_data"
    }
   ],
   "source": [
    "rdd5 = rdd4.map(lambda x: (x[1],x[0])).sortByKey()"
   ]
  },
  {
   "cell_type": "code",
   "execution_count": 28,
   "id": "4ef11549-e223-4d7a-9e9e-90341206c0ba",
   "metadata": {
    "execution": {
     "iopub.execute_input": "2022-02-08T16:14:04.950212Z",
     "iopub.status.busy": "2022-02-08T16:14:04.949958Z",
     "iopub.status.idle": "2022-02-08T16:14:16.249444Z",
     "shell.execute_reply": "2022-02-08T16:14:16.248827Z",
     "shell.execute_reply.started": "2022-02-08T16:14:04.950182Z"
    },
    "tags": []
   },
   "outputs": [
    {
     "data": {
      "application/vnd.jupyter.widget-view+json": {
       "model_id": "7241e2121a9c457aade483eb27cb287a",
       "version_major": 2,
       "version_minor": 0
      },
      "text/plain": [
       "VBox()"
      ]
     },
     "metadata": {},
     "output_type": "display_data"
    },
    {
     "data": {
      "application/vnd.jupyter.widget-view+json": {
       "model_id": "",
       "version_major": 2,
       "version_minor": 0
      },
      "text/plain": [
       "FloatProgress(value=0.0, bar_style='info', description='Progress:', layout=Layout(height='25px', width='50%'),…"
      ]
     },
     "metadata": {},
     "output_type": "display_data"
    },
    {
     "name": "stdout",
     "output_type": "stream",
     "text": [
      "[(2, 'Spark')]"
     ]
    }
   ],
   "source": [
    "rdd6 = rdd5.filter(lambda x: 'Spark' in x)\n",
    "rdd6.collect()"
   ]
  },
  {
   "cell_type": "code",
   "execution_count": null,
   "id": "169032c5-345f-4c12-924b-ea19c8ad39fb",
   "metadata": {},
   "outputs": [],
   "source": []
  }
 ],
 "metadata": {
  "kernelspec": {
   "display_name": "PySpark",
   "language": "",
   "name": "pysparkkernel"
  },
  "language_info": {
   "codemirror_mode": {
    "name": "python",
    "version": 3
   },
   "mimetype": "text/x-python",
   "name": "pyspark",
   "pygments_lexer": "python3"
  }
 },
 "nbformat": 4,
 "nbformat_minor": 5
}
